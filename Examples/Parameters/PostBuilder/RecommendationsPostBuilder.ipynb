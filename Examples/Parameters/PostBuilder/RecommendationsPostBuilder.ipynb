{
 "cells": [
  {
   "cell_type": "markdown",
   "metadata": {},
   "source": [
    "### Recommendations Post Builder\n",
    "In this example we use the post builder methods to create a `ITraktSyncRecommendationsPost`."
   ]
  },
  {
   "cell_type": "markdown",
   "metadata": {},
   "source": [
    "First, we need to install the latest [Trakt.NET](https://www.nuget.org/packages/Trakt.NET) NuGet package."
   ]
  },
  {
   "cell_type": "code",
   "execution_count": null,
   "metadata": {
    "dotnet_interactive": {
     "language": "csharp"
    },
    "vscode": {
     "languageId": "dotnet-interactive.csharp"
    }
   },
   "outputs": [],
   "source": [
    "#r \"nuget:Trakt.NET\""
   ]
  },
  {
   "cell_type": "markdown",
   "metadata": {},
   "source": [
    "Now, we can create a new Trakt.NET client."
   ]
  },
  {
   "cell_type": "code",
   "execution_count": null,
   "metadata": {
    "dotnet_interactive": {
     "language": "csharp"
    },
    "vscode": {
     "languageId": "dotnet-interactive.csharp"
    }
   },
   "outputs": [],
   "source": [
    "using TraktNet;\n",
    "\n",
    "string clientID = await GetInputAsync(\"Please enter your Trakt Client-ID:\");\n",
    "string clientSecret = await GetInputAsync(\"Please enter your Trakt Client-Secret:\");\n",
    "\n",
    "var client = new TraktClient(clientID, clientSecret);\n",
    "client.Configuration.UseSandboxEnvironment = true;"
   ]
  },
  {
   "cell_type": "markdown",
   "metadata": {},
   "source": [
    "The following lines show how to create a recommendations post with its post builder."
   ]
  },
  {
   "cell_type": "code",
   "execution_count": null,
   "metadata": {
    "dotnet_interactive": {
     "language": "csharp"
    },
    "vscode": {
     "languageId": "dotnet-interactive.csharp"
    }
   },
   "outputs": [],
   "source": [
    "using TraktNet.Exceptions;\n",
    "using TraktNet.Objects.Get.Movies;\n",
    "using TraktNet.Objects.Get.Shows;\n",
    "using TraktNet.Objects.Post.Syncs.Recommendations;\n",
    "using TraktNet.Objects.Post.Syncs.Recommendations.Responses;\n",
    "using TraktNet.PostBuilder;\n",
    "using TraktNet.Responses;\n",
    "\n",
    "try\n",
    "{\n",
    "    // Get some sample data.\n",
    "    TraktPagedResponse<ITraktTrendingMovie> trendingMovies = await client.Movies.GetTrendingMoviesAsync();\n",
    "    TraktPagedResponse<ITraktTrendingShow> trendingShows = await client.Shows.GetTrendingShowsAsync();\n",
    "\n",
    "    // Create the recommendations post by using its post builder.\n",
    "    ITraktSyncRecommendationsPost recommendationsPost = TraktPost.NewSyncRecommendationsPost()\n",
    "                                                            .WithMovies(trendingMovies) // Add all movies.\n",
    "                                                            .WithShows(trendingShows)   // Add all shows.\n",
    "                                                            .Build();                   // Creates the recommendations post with the added movies and shows.\n",
    "\n",
    "    // Using the post in the request.\n",
    "    // NOTE: This call needs a valid authorization, which is not set in this example.\n",
    "    //       See https://github.com/henrikfroehling/Trakt.NET/tree/develop/Source/Examples/Authentication/DeviceAuthentication.ipynb\n",
    "    //       or https://github.com/henrikfroehling/Trakt.NET/tree/develop/Source/Examples/Authentication/OAuthAuthentication.ipynb\n",
    "    //       for how to get an authorization.\n",
    "    TraktResponse<ITraktSyncRecommendationsPostResponse> response = await client.Sync.AddPersonalRecommendationsAsync(recommendationsPost);\n",
    "}\n",
    "catch (TraktException ex)\n",
    "{\n",
    "    Console.WriteLine(\"-------------- Trakt Exception --------------\");\n",
    "    Console.WriteLine($\"Exception message: {ex.Message}\");\n",
    "    Console.WriteLine($\"Status code: {ex.StatusCode}\");\n",
    "    Console.WriteLine($\"Request URL: {ex.RequestUrl}\");\n",
    "    Console.WriteLine($\"Request message: {ex.RequestBody}\");\n",
    "    Console.WriteLine($\"Request response: {ex.Response}\");\n",
    "    Console.WriteLine($\"Server Reason Phrase: {ex.ServerReasonPhrase}\");\n",
    "    Console.WriteLine(\"---------------------------------------------\");\n",
    "}"
   ]
  }
 ],
 "metadata": {
  "kernelspec": {
   "display_name": ".NET (C#)",
   "language": "C#",
   "name": ".net-csharp"
  },
  "language_info": {
   "name": "C#"
  }
 },
 "nbformat": 4,
 "nbformat_minor": 2
}

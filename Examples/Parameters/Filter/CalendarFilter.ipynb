{
 "cells": [
  {
   "cell_type": "markdown",
   "metadata": {},
   "source": [
    "### Calendar Filter\n",
    "In this example we create a calendar filter to filter all new calendar shows."
   ]
  },
  {
   "cell_type": "markdown",
   "metadata": {},
   "source": [
    "First, we need to install the latest [Trakt.NET](https://www.nuget.org/packages/Trakt.NET) NuGet package."
   ]
  },
  {
   "cell_type": "code",
   "execution_count": null,
   "metadata": {
    "dotnet_interactive": {
     "language": "csharp"
    },
    "vscode": {
     "languageId": "dotnet-interactive.csharp"
    }
   },
   "outputs": [],
   "source": [
    "#r \"nuget:Trakt.NET\""
   ]
  },
  {
   "cell_type": "markdown",
   "metadata": {},
   "source": [
    "Now, we can create a new Trakt.NET client.\n",
    "\n",
    "Since we do not need authentication or authorization for this example, only the Client-ID is required."
   ]
  },
  {
   "cell_type": "code",
   "execution_count": null,
   "metadata": {
    "dotnet_interactive": {
     "language": "csharp"
    },
    "vscode": {
     "languageId": "dotnet-interactive.csharp"
    }
   },
   "outputs": [],
   "source": [
    "using TraktNet;\n",
    "\n",
    "string clientID = await GetInputAsync(\"Please enter your Trakt Client-ID:\");\n",
    "\n",
    "var client = new TraktClient(clientID);"
   ]
  },
  {
   "cell_type": "markdown",
   "metadata": {},
   "source": [
    "The following lines create a new calendar filter, which filters the request for specific genres, runtimes and year."
   ]
  },
  {
   "cell_type": "code",
   "execution_count": null,
   "metadata": {
    "dotnet_interactive": {
     "language": "csharp"
    },
    "vscode": {
     "languageId": "dotnet-interactive.csharp"
    }
   },
   "outputs": [],
   "source": [
    "using TraktNet.Parameters;\n",
    "\n",
    "ITraktCalendarFilter calendarFilter = TraktFilter.NewCalendarFilter()\n",
    "                                            .WithGenres(\"action\", \"drama\") // We want only \"Action\" and \"Drama\" shows.\n",
    "                                                                           // Note: These should be official Trakt genre slugs.\n",
    "                                            .WithRuntimes(30, 60)          // Shows with a runtime between 30 and 60 minutes.\n",
    "                                            .WithYear(2022)                // Shows which were released in the year 2022.\n",
    "                                            // Also possible:\n",
    "                                            //.WithCountries(\"de\", \"us\")\n",
    "                                            //.WithLanguages(\"en\", \"de\")\n",
    "                                            //.WithRatings(70, 90)\n",
    "                                            //.WithQuery(\"game\")\n",
    "                                            //.WithStudios(\"HBO\", \"Showtine\")\n",
    "                                            //.WithVotes(7000, 9000)\n",
    "                                            .Build();                      // Finally, create the filter with the above given parameters."
   ]
  },
  {
   "cell_type": "markdown",
   "metadata": {},
   "source": [
    "Get all new calendar shows filtered with the above created filter."
   ]
  },
  {
   "cell_type": "code",
   "execution_count": null,
   "metadata": {
    "dotnet_interactive": {
     "language": "csharp"
    },
    "vscode": {
     "languageId": "dotnet-interactive.csharp"
    }
   },
   "outputs": [],
   "source": [
    "using TraktNet.Exceptions;\n",
    "using TraktNet.Objects.Get.Calendars;\n",
    "using TraktNet.Responses;\n",
    "\n",
    "try\n",
    "{\n",
    "    TraktListResponse<ITraktCalendarShow> calendarShowsResponse = await client.Calendar.GetAllNewShowsAsync(\n",
    "        filter: calendarFilter,                                 // The above created calendar filter.\n",
    "        extendedInfo: new TraktExtendedInfo { Full = true }     // We like to get full information about the shows.\n",
    "    );\n",
    "\n",
    "    display(calendarShowsResponse.Value);\n",
    "}\n",
    "catch (TraktException ex)\n",
    "{\n",
    "    Console.WriteLine(\"-------------- Trakt Exception --------------\");\n",
    "    Console.WriteLine($\"Exception message: {ex.Message}\");\n",
    "    Console.WriteLine($\"Status code: {ex.StatusCode}\");\n",
    "    Console.WriteLine($\"Request URL: {ex.RequestUrl}\");\n",
    "    Console.WriteLine($\"Request message: {ex.RequestBody}\");\n",
    "    Console.WriteLine($\"Request response: {ex.Response}\");\n",
    "    Console.WriteLine($\"Server Reason Phrase: {ex.ServerReasonPhrase}\");\n",
    "    Console.WriteLine(\"---------------------------------------------\");\n",
    "}"
   ]
  }
 ],
 "metadata": {
  "kernelspec": {
   "display_name": ".NET (C#)",
   "language": "C#",
   "name": ".net-csharp"
  },
  "language_info": {
   "name": "C#"
  }
 },
 "nbformat": 4,
 "nbformat_minor": 2
}

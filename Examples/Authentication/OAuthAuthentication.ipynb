{
 "cells": [
  {
   "cell_type": "markdown",
   "metadata": {},
   "source": [
    "### OAuth Authentication\n",
    "In this example we authenticate our Trakt.NET client with the OAuth Authentication method to get Trakt authorization, which is required for OAuth requests."
   ]
  },
  {
   "cell_type": "markdown",
   "metadata": {},
   "source": [
    "First, we need to install the latest [Trakt.NET](https://www.nuget.org/packages/Trakt.NET) NuGet package."
   ]
  },
  {
   "cell_type": "code",
   "execution_count": null,
   "metadata": {
    "dotnet_interactive": {
     "language": "csharp"
    },
    "vscode": {
     "languageId": "dotnet-interactive.csharp"
    }
   },
   "outputs": [],
   "source": [
    "#r \"nuget:Trakt.NET\""
   ]
  },
  {
   "cell_type": "markdown",
   "metadata": {},
   "source": [
    "Now, we can create a new Trakt.NET client.\n",
    "\n",
    "For authentication and authorization requests the Client-ID **and** Client-Secret are both required."
   ]
  },
  {
   "cell_type": "code",
   "execution_count": null,
   "metadata": {
    "dotnet_interactive": {
     "language": "csharp"
    },
    "vscode": {
     "languageId": "dotnet-interactive.csharp"
    }
   },
   "outputs": [],
   "source": [
    "using TraktNet;\n",
    "\n",
    "string clientID = await GetInputAsync(\"Please enter your Trakt Client-ID:\");\n",
    "string clientSecret = await GetInputAsync(\"Please enter your Trakt Client-Secret:\");\n",
    "\n",
    "var client = new TraktClient(clientID, clientSecret);"
   ]
  },
  {
   "cell_type": "markdown",
   "metadata": {},
   "source": [
    "We can now request authorization by authenticating with the OAuth Authentication method.\n",
    "\n",
    "The following lines show the steps which are required to get an authorization.\n",
    "1. Create an authorization URL (see line 29)\n",
    "2. The user needs to visit the authorization URL website\n",
    "3. Trakt.tv returns a code which is needed to get the Trakt authorization (see line 41)"
   ]
  },
  {
   "cell_type": "markdown",
   "metadata": {},
   "source": [
    "There are some additional steps in this example, which are not required for authenticating.\n",
    "They only show the usage in the context of this example.\n",
    "1. Refreshing an already existing authorization (see line 65)\n",
    "2. Revoking an already existing authorization (see line 83)"
   ]
  },
  {
   "cell_type": "code",
   "execution_count": null,
   "metadata": {
    "dotnet_interactive": {
     "language": "csharp"
    },
    "vscode": {
     "languageId": "dotnet-interactive.csharp"
    }
   },
   "outputs": [],
   "source": [
    "using TraktNet.Exceptions;\n",
    "using TraktNet.Objects.Authentication;\n",
    "using TraktNet.Responses;\n",
    "\n",
    "// Helper method for writing authorization information\n",
    "void WriteAuthorizationInformation(ITraktAuthorization authorization)\n",
    "{\n",
    "    Console.WriteLine($\"Created (UTC): {authorization.CreatedAt}\");\n",
    "    Console.WriteLine($\"Access Scope: {authorization.Scope.DisplayName}\");\n",
    "    Console.WriteLine($\"Refresh Possible: {authorization.IsRefreshPossible}\");\n",
    "    Console.WriteLine($\"Valid: {authorization.IsValid}\");\n",
    "    Console.WriteLine($\"Access Token: {authorization.AccessToken}\");\n",
    "    Console.WriteLine($\"Refresh Token: {authorization.RefreshToken}\");\n",
    "    Console.WriteLine($\"Token Expired: {authorization.IsExpired}\");\n",
    "\n",
    "    var created = authorization.CreatedAt;\n",
    "    var expirationDate = created.AddSeconds(authorization.ExpiresInSeconds);\n",
    "    var difference = expirationDate - DateTime.UtcNow;\n",
    "\n",
    "    var days = difference.Days > 0 ? difference.Days : 0;\n",
    "    var hours = difference.Hours > 0 ? difference.Hours : 0;\n",
    "    var minutes = difference.Minutes > 0 ? difference.Minutes : 0;\n",
    "\n",
    "    Console.WriteLine($\"Expires in {days} Days, {hours} Hours, {minutes} Minutes\");\n",
    "}\n",
    "\n",
    "try\n",
    "{\n",
    "    string authorizationUrl = client.Authentication.CreateAuthorizationUrl();\n",
    "\n",
    "    if (!string.IsNullOrEmpty(authorizationUrl))\n",
    "    {\n",
    "        Console.WriteLine(\"You have to authenticate this application.\");\n",
    "        Console.WriteLine(\"Please visit the following webpage:\");\n",
    "        Console.WriteLine($\"{authorizationUrl}\\n\");\n",
    "\n",
    "        string code = await GetInputAsync(\"Enter the PIN code from Trakt.tv:\");\n",
    "\n",
    "        if (!string.IsNullOrEmpty(code))\n",
    "        {\n",
    "            TraktResponse<ITraktAuthorization> authorizationResponse = await client.Authentication.GetAuthorizationAsync(code);\n",
    "\n",
    "            // NOTE: We do not need to explicitly set the authorization in the client.\n",
    "            // This is not necessary, since it's automatically set.\n",
    "            // client.Authorization = authorizationResponse.Value;\n",
    "\n",
    "            ITraktAuthorization authorization = authorizationResponse.Value;\n",
    "\n",
    "            // or\n",
    "            // ITraktAuthorization authorization = client.Authorization;\n",
    "\n",
    "            if (authorization.IsValid)\n",
    "            {\n",
    "                Console.WriteLine(\"-------------- Authentication successful --------------\");\n",
    "                WriteAuthorizationInformation(authorization);\n",
    "                Console.WriteLine(\"-------------------------------------------------------\");\n",
    "            }\n",
    "            else\n",
    "                Console.WriteLine(\"-------------- Authentication failed --------------\");\n",
    "\n",
    "            string yesNo = await GetInputAsync(\"Do you want to refresh the current authorization? [y/n]:\");\n",
    "\n",
    "            if (yesNo.Equals(\"y\"))\n",
    "            {\n",
    "                TraktResponse<ITraktAuthorization> newAuthorizationResponse = await client.Authentication.RefreshAuthorizationAsync();\n",
    "    \n",
    "                ITraktAuthorization newAuthorization = newAuthorizationResponse.Value;\n",
    "    \n",
    "                if (newAuthorization.IsValid)\n",
    "                {\n",
    "                    Console.WriteLine(\"-------------- Authorization refreshed successfully --------------\");\n",
    "                    WriteAuthorizationInformation(newAuthorization);\n",
    "                    Console.WriteLine(\"-------------------------------------------------------\");\n",
    "                }\n",
    "                else\n",
    "                    Console.WriteLine(\"-------------- Refreshing Authorization failed --------------\");\n",
    "            }\n",
    "    \n",
    "            yesNo = await GetInputAsync(\"Do you want to revoke your authorization? [y/n]:\");\n",
    "    \n",
    "            if (yesNo.Equals(\"y\"))\n",
    "            {\n",
    "                TraktNoContentResponse response = await client.Authentication.RevokeAuthorizationAsync();\n",
    "    \n",
    "                // If no exception was thrown, revoking was successfull\n",
    "                Console.WriteLine(\"-----------------------------------\");\n",
    "                Console.WriteLine(\"Authorization revoked successfully\");\n",
    "                Console.WriteLine(\"-----------------------------------\");\n",
    "            }\n",
    "        }\n",
    "    }\n",
    "}\n",
    "catch (TraktException ex)\n",
    "{\n",
    "    Console.WriteLine(\"-------------- Trakt Exception --------------\");\n",
    "    Console.WriteLine($\"Exception message: {ex.Message}\");\n",
    "    Console.WriteLine($\"Status code: {ex.StatusCode}\");\n",
    "    Console.WriteLine($\"Request URL: {ex.RequestUrl}\");\n",
    "    Console.WriteLine($\"Request message: {ex.RequestBody}\");\n",
    "    Console.WriteLine($\"Request response: {ex.Response}\");\n",
    "    Console.WriteLine($\"Server Reason Phrase: {ex.ServerReasonPhrase}\");\n",
    "    Console.WriteLine(\"---------------------------------------------\");\n",
    "}"
   ]
  }
 ],
 "metadata": {
  "kernelspec": {
   "display_name": ".NET (C#)",
   "language": "C#",
   "name": ".net-csharp"
  },
  "language_info": {
   "name": "C#"
  }
 },
 "nbformat": 4,
 "nbformat_minor": 2
}

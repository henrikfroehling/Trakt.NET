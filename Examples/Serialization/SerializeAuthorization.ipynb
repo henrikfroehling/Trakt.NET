{
 "cells": [
  {
   "cell_type": "markdown",
   "metadata": {},
   "source": [
    "### Serialize Authorization\n",
    "This example shows how we can serialize a given authorization as JSON data and deserialize the JSON data back to an authorization."
   ]
  },
  {
   "cell_type": "markdown",
   "metadata": {},
   "source": [
    "First, we need to install the latest [Trakt.NET](https://www.nuget.org/packages/Trakt.NET) NuGet package."
   ]
  },
  {
   "cell_type": "code",
   "execution_count": null,
   "metadata": {
    "dotnet_interactive": {
     "language": "csharp"
    },
    "vscode": {
     "languageId": "dotnet-interactive.csharp"
    }
   },
   "outputs": [],
   "source": [
    "#r \"nuget:Trakt.NET\""
   ]
  },
  {
   "cell_type": "markdown",
   "metadata": {},
   "source": [
    "For this example we simply create a fake authorization."
   ]
  },
  {
   "cell_type": "code",
   "execution_count": null,
   "metadata": {
    "dotnet_interactive": {
     "language": "csharp"
    },
    "vscode": {
     "languageId": "dotnet-interactive.csharp"
    }
   },
   "outputs": [],
   "source": [
    "using TraktNet.Objects.Authentication;\n",
    "\n",
    "ITraktAuthorization fakeAuthorization = TraktAuthorization.CreateWith(DateTime.Now, 90 * 24 * 3600, \"FakeAccessToken\", \"FakeRefreshToken\");"
   ]
  },
  {
   "cell_type": "markdown",
   "metadata": {},
   "source": [
    "We use the `TraktSerializationService` to serialize the previously created authorization as JSON data."
   ]
  },
  {
   "cell_type": "code",
   "execution_count": null,
   "metadata": {
    "dotnet_interactive": {
     "language": "csharp"
    },
    "vscode": {
     "languageId": "dotnet-interactive.csharp"
    }
   },
   "outputs": [],
   "source": [
    "using TraktNet.Services;\n",
    "\n",
    "string fakeAuthorizationJson = await TraktSerializationService.SerializeAsync(fakeAuthorization);\n",
    "\n",
    "Console.WriteLine(\"Serialized Fake Authorization:\");\n",
    "Console.WriteLine(fakeAuthorizationJson);"
   ]
  },
  {
   "cell_type": "markdown",
   "metadata": {},
   "source": [
    "Then, we use the `TraktSerializationService` to deserialize the JSON data back to an authorization object."
   ]
  },
  {
   "cell_type": "code",
   "execution_count": null,
   "metadata": {
    "dotnet_interactive": {
     "language": "csharp"
    },
    "vscode": {
     "languageId": "dotnet-interactive.csharp"
    }
   },
   "outputs": [],
   "source": [
    "ITraktAuthorization deserializedFakeAuthorization = await TraktSerializationService.DeserializeAsync(fakeAuthorizationJson);\n",
    "\n",
    "if (deserializedFakeAuthorization != null)\n",
    "{\n",
    "    Console.WriteLine(\"Deserialized Fake Authorization:\");\n",
    "    Console.WriteLine($\"Created (UTC): {deserializedFakeAuthorization.CreatedAt}\");\n",
    "    Console.WriteLine($\"Access Scope: {deserializedFakeAuthorization.Scope.DisplayName}\");\n",
    "    Console.WriteLine($\"Refresh Possible: {deserializedFakeAuthorization.IsRefreshPossible}\");\n",
    "    Console.WriteLine($\"Valid: {deserializedFakeAuthorization.IsValid}\");\n",
    "    Console.WriteLine($\"Token Type: {deserializedFakeAuthorization.TokenType.DisplayName}\");\n",
    "    Console.WriteLine($\"Access Token: {deserializedFakeAuthorization.AccessToken}\");\n",
    "    Console.WriteLine($\"Refresh Token: {deserializedFakeAuthorization.RefreshToken}\");\n",
    "    Console.WriteLine($\"Token Expired: {deserializedFakeAuthorization.IsExpired}\");\n",
    "    Console.WriteLine($\"Expires in {deserializedFakeAuthorization.ExpiresInSeconds / 3600 / 24} days\");\n",
    "}"
   ]
  }
 ],
 "metadata": {
  "kernelspec": {
   "display_name": ".NET (C#)",
   "language": "C#",
   "name": ".net-csharp"
  },
  "language_info": {
   "name": "C#"
  }
 },
 "nbformat": 4,
 "nbformat_minor": 2
}

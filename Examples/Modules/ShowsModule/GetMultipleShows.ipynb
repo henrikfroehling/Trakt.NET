{
 "cells": [
  {
   "cell_type": "markdown",
   "metadata": {},
   "source": [
    "### Get details for multiple single shows\n",
    "In this example we get the details of multiple single shows simultaneously."
   ]
  },
  {
   "cell_type": "markdown",
   "metadata": {},
   "source": [
    "First, we need to install the latest [Trakt.NET](https://www.nuget.org/packages/Trakt.NET) NuGet package."
   ]
  },
  {
   "cell_type": "code",
   "execution_count": null,
   "metadata": {
    "dotnet_interactive": {
     "language": "csharp"
    },
    "vscode": {
     "languageId": "dotnet-interactive.csharp"
    }
   },
   "outputs": [],
   "source": [
    "#r \"nuget:Trakt.NET\""
   ]
  },
  {
   "cell_type": "markdown",
   "metadata": {},
   "source": [
    "Now, we can create a new Trakt.NET client.\n",
    "\n",
    "Since we do not need authentication or authorization for this example, only the Client-ID is required."
   ]
  },
  {
   "cell_type": "code",
   "execution_count": null,
   "metadata": {
    "dotnet_interactive": {
     "language": "csharp"
    },
    "vscode": {
     "languageId": "dotnet-interactive.csharp"
    }
   },
   "outputs": [],
   "source": [
    "using TraktNet;\n",
    "\n",
    "string clientID = await GetInputAsync(\"Please enter your Trakt Client-ID:\");\n",
    "\n",
    "var client = new TraktClient(clientID);"
   ]
  },
  {
   "cell_type": "markdown",
   "metadata": {},
   "source": [
    "Set the Trakt-IDs or -Slugs for the shows."
   ]
  },
  {
   "cell_type": "code",
   "execution_count": null,
   "metadata": {
    "dotnet_interactive": {
     "language": "csharp"
    },
    "vscode": {
     "languageId": "dotnet-interactive.csharp"
    }
   },
   "outputs": [],
   "source": [
    "string showIdOrSlug1 = await GetInputAsync(\"Enter the Trakt-Id or -Slug of Show 1:\");\n",
    "string showIdOrSlug2 = await GetInputAsync(\"Enter the Trakt-Id or -Slug of Show 2:\");\n",
    "string showIdOrSlug3 = await GetInputAsync(\"Enter the Trakt-Id or -Slug of Show 3:\");\n",
    "\n",
    "// Default fallback slugs.\n",
    "showIdOrSlug1 = string.IsNullOrEmpty(showIdOrSlug1) ? \"game-of-thrones\" : showIdOrSlug1;\n",
    "showIdOrSlug2 = string.IsNullOrEmpty(showIdOrSlug2) ? \"mr-robot\" : showIdOrSlug2;\n",
    "showIdOrSlug3 = string.IsNullOrEmpty(showIdOrSlug3) ? \"breaking-bad\" : showIdOrSlug3;"
   ]
  },
  {
   "cell_type": "markdown",
   "metadata": {},
   "source": [
    "The following lines show how we can get the details of multiple shows in one library call.\n",
    "1. In line 11 we create a `TraktMultipleObjectsQueryParams` instance, which holds the ids of the shows.\n",
    "2. We use the `TraktMultipleObjectsQueryParams` for the request (see line 20)."
   ]
  },
  {
   "cell_type": "code",
   "execution_count": null,
   "metadata": {
    "dotnet_interactive": {
     "language": "csharp"
    },
    "vscode": {
     "languageId": "dotnet-interactive.csharp"
    }
   },
   "outputs": [],
   "source": [
    "using TraktNet.Exceptions;\n",
    "using TraktNet.Modules;\n",
    "using TraktNet.Objects.Get.Shows;\n",
    "using TraktNet.Parameters;\n",
    "using TraktNet.Responses;\n",
    "\n",
    "try\n",
    "{\n",
    "    var extendedInfo = new TraktExtendedInfo { Full = true };\n",
    "\n",
    "    var parameters = new TraktMultipleObjectsQueryParams\n",
    "    {\n",
    "        showIdOrSlug1, // For this show we want only the minimal information.\n",
    "\n",
    "        // The following shows will have full information.\n",
    "        { showIdOrSlug2, extendedInfo },\n",
    "        { showIdOrSlug3, extendedInfo }\n",
    "    };\n",
    "\n",
    "    IEnumerable<TraktResponse<ITraktShow>> mutlipleShowsResponse = await client.Shows.GetMultipleShowsAsync(parameters);\n",
    "\n",
    "    foreach (TraktResponse<ITraktShow> showResponse in mutlipleShowsResponse)\n",
    "    {\n",
    "        ITraktShow show = showResponse.Value;\n",
    "\n",
    "        Console.WriteLine(\"-------------------------------------------------------------------------\");\n",
    "        \n",
    "        Console.WriteLine($\"Title: {show.Title}\");\n",
    "        Console.WriteLine($\"Year: {show.Year ?? 0}\");\n",
    "\n",
    "        ITraktShowIds ids = show.Ids;\n",
    "\n",
    "        if (ids != null)\n",
    "        {\n",
    "            Console.WriteLine($\"Trakt-Id: {ids.Trakt}\");\n",
    "            Console.WriteLine($\"Slug: {ids.Slug}\");\n",
    "            Console.WriteLine($\"ImDB-Id: {ids.Imdb}\");\n",
    "            Console.WriteLine($\"TmDB-Id: {ids.Tmdb ?? 0}\");\n",
    "            Console.WriteLine($\"TVDB-Id: {ids.Tvdb ?? 0}\");\n",
    "            Console.WriteLine($\"TVRage-Id: {ids.TvRage ?? 0}\");\n",
    "        }\n",
    "\n",
    "        Console.WriteLine($\"Overview: {show.Overview}\");\n",
    "\n",
    "        if (show.FirstAired.HasValue)\n",
    "            Console.WriteLine($\"First Aired (UTC): {show.FirstAired.Value}\");\n",
    "\n",
    "        ITraktShowAirs airs = show.Airs;\n",
    "\n",
    "        if (airs != null)\n",
    "        {\n",
    "            Console.WriteLine($\"Airs on: {airs.Day}\");\n",
    "            Console.WriteLine($\"Airs at: {airs.Time}\");\n",
    "            Console.WriteLine($\"Airs in: {airs.TimeZoneId}\");\n",
    "        }\n",
    "\n",
    "        Console.WriteLine($\"Runtime: {show.Runtime ?? 0} Minutes\");\n",
    "\n",
    "        if (show.Genres != null)\n",
    "            Console.WriteLine($\"Genres: {string.Join(\", \", show.Genres)}\");\n",
    "\n",
    "        Console.WriteLine($\"Certification: {show.Certification}\");\n",
    "        Console.WriteLine($\"Network: {show.Network}\");\n",
    "        Console.WriteLine($\"Aired Episodes: {show.AiredEpisodes ?? 0}\");\n",
    "\n",
    "        if (show.Status != null)\n",
    "            Console.WriteLine($\"Status: {show.Status.DisplayName}\");\n",
    "\n",
    "        Console.WriteLine($\"Rating: {show.Rating ?? 0.0f}\");\n",
    "        Console.WriteLine($\"Votes: {show.Votes ?? 0}\");\n",
    "        Console.WriteLine($\"Country Code: {show.CountryCode}\");\n",
    "        Console.WriteLine($\"Language Code: {show.LanguageCode}\");\n",
    "\n",
    "        if (show.UpdatedAt.HasValue)\n",
    "            Console.WriteLine($\"Updated At (UTC): {show.UpdatedAt.Value}\");\n",
    "\n",
    "        if (show.AvailableTranslationLanguageCodes != null)\n",
    "            Console.WriteLine($\"Available Translation Languages: {string.Join(\", \", show.AvailableTranslationLanguageCodes)}\");\n",
    "\n",
    "        Console.WriteLine($\"Trailer: {show.Trailer}\");\n",
    "        Console.WriteLine($\"Homepage: {show.Homepage}\");\n",
    "    }\n",
    "}\n",
    "catch (TraktException ex)\n",
    "{\n",
    "    Console.WriteLine(\"-------------- Trakt Exception --------------\");\n",
    "    Console.WriteLine($\"Exception message: {ex.Message}\");\n",
    "    Console.WriteLine($\"Status code: {ex.StatusCode}\");\n",
    "    Console.WriteLine($\"Request URL: {ex.RequestUrl}\");\n",
    "    Console.WriteLine($\"Request message: {ex.RequestBody}\");\n",
    "    Console.WriteLine($\"Request response: {ex.Response}\");\n",
    "    Console.WriteLine($\"Server Reason Phrase: {ex.ServerReasonPhrase}\");\n",
    "    Console.WriteLine(\"---------------------------------------------\");\n",
    "}"
   ]
  }
 ],
 "metadata": {
  "kernelspec": {
   "display_name": ".NET (C#)",
   "language": "C#",
   "name": ".net-csharp"
  },
  "language_info": {
   "name": "C#"
  }
 },
 "nbformat": 4,
 "nbformat_minor": 2
}

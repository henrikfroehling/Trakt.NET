{
 "cells": [
  {
   "cell_type": "markdown",
   "metadata": {},
   "source": [
    "### Get single show details\n",
    "In this example we get the details of a single show."
   ]
  },
  {
   "cell_type": "markdown",
   "metadata": {},
   "source": [
    "First, we need to install the latest [Trakt.NET](https://www.nuget.org/packages/Trakt.NET) NuGet package."
   ]
  },
  {
   "cell_type": "code",
   "execution_count": null,
   "metadata": {
    "dotnet_interactive": {
     "language": "csharp"
    },
    "vscode": {
     "languageId": "dotnet-interactive.csharp"
    }
   },
   "outputs": [],
   "source": [
    "#r \"nuget:Trakt.NET\""
   ]
  },
  {
   "cell_type": "markdown",
   "metadata": {},
   "source": [
    "Now, we can create a new Trakt.NET client.\n",
    "\n",
    "Since we do not need authentication or authorization for this example, only the Client-ID is required."
   ]
  },
  {
   "cell_type": "code",
   "execution_count": null,
   "metadata": {
    "dotnet_interactive": {
     "language": "csharp"
    },
    "vscode": {
     "languageId": "dotnet-interactive.csharp"
    }
   },
   "outputs": [],
   "source": [
    "using TraktNet;\n",
    "\n",
    "string clientID = await GetInputAsync(\"Please enter your Trakt Client-ID:\");\n",
    "\n",
    "var client = new TraktClient(clientID);"
   ]
  },
  {
   "cell_type": "markdown",
   "metadata": {},
   "source": [
    "Set the Trakt-ID or -Slug for the show."
   ]
  },
  {
   "cell_type": "code",
   "execution_count": null,
   "metadata": {
    "dotnet_interactive": {
     "language": "csharp"
    },
    "vscode": {
     "languageId": "dotnet-interactive.csharp"
    }
   },
   "outputs": [],
   "source": [
    "string showIdOrSlug = await GetInputAsync(\"Enter the Trakt-Id or -Slug of the Show:\");\n",
    "\n",
    "if (string.IsNullOrEmpty(showIdOrSlug))\n",
    "    showIdOrSlug = \"game-of-thrones\"; // Game of Thrones as fallback"
   ]
  },
  {
   "cell_type": "markdown",
   "metadata": {},
   "source": [
    "The following lines show how to get minimal information about a show."
   ]
  },
  {
   "cell_type": "code",
   "execution_count": null,
   "metadata": {
    "dotnet_interactive": {
     "language": "csharp"
    },
    "vscode": {
     "languageId": "dotnet-interactive.csharp"
    }
   },
   "outputs": [],
   "source": [
    "using TraktNet.Exceptions;\n",
    "using TraktNet.Objects.Get.Shows;\n",
    "using TraktNet.Responses;\n",
    "\n",
    "try\n",
    "{\n",
    "    TraktResponse<ITraktShow> showResponse = await client.Shows.GetShowAsync(showIdOrSlug);\n",
    "    \n",
    "    ITraktShow show = showResponse.Value;\n",
    "\n",
    "    Console.WriteLine($\"Title: {show.Title}\");\n",
    "    Console.WriteLine($\"Year: {show.Year ?? 0}\");\n",
    "\n",
    "    ITraktShowIds ids = show.Ids;\n",
    "\n",
    "    if (ids != null)\n",
    "    {\n",
    "        Console.WriteLine($\"Trakt-Id: {ids.Trakt}\");\n",
    "        Console.WriteLine($\"Slug: {ids.Slug}\");\n",
    "        Console.WriteLine($\"ImDB-Id: {ids.Imdb}\");\n",
    "        Console.WriteLine($\"TmDB-Id: {ids.Tmdb ?? 0}\");\n",
    "        Console.WriteLine($\"TVDB-Id: {ids.Tvdb ?? 0}\");\n",
    "        Console.WriteLine($\"TVRage-Id: {ids.TvRage ?? 0}\");\n",
    "    }\n",
    "}\n",
    "catch (TraktException ex)\n",
    "{\n",
    "    Console.WriteLine(\"-------------- Trakt Exception --------------\");\n",
    "    Console.WriteLine($\"Exception message: {ex.Message}\");\n",
    "    Console.WriteLine($\"Status code: {ex.StatusCode}\");\n",
    "    Console.WriteLine($\"Request URL: {ex.RequestUrl}\");\n",
    "    Console.WriteLine($\"Request message: {ex.RequestBody}\");\n",
    "    Console.WriteLine($\"Request response: {ex.Response}\");\n",
    "    Console.WriteLine($\"Server Reason Phrase: {ex.ServerReasonPhrase}\");\n",
    "    Console.WriteLine(\"---------------------------------------------\");\n",
    "}"
   ]
  },
  {
   "cell_type": "markdown",
   "metadata": {},
   "source": [
    "The following lines show how to get full information about a show.\n",
    "The only difference to the previous example is the `new TraktExtendedInfo().SetFull()` in line 10."
   ]
  },
  {
   "cell_type": "code",
   "execution_count": null,
   "metadata": {
    "dotnet_interactive": {
     "language": "csharp"
    },
    "vscode": {
     "languageId": "dotnet-interactive.csharp"
    }
   },
   "outputs": [],
   "source": [
    "using TraktNet.Parameters;\n",
    "\n",
    "try\n",
    "{\n",
    "    TraktResponse<ITraktShow> showResponse = await client.Shows.GetShowAsync(showIdOrSlug, new TraktExtendedInfo().SetFull());\n",
    "    \n",
    "    ITraktShow show = showResponse.Value;\n",
    "\n",
    "    Console.WriteLine($\"Title: {show.Title}\");\n",
    "    Console.WriteLine($\"Year: {show.Year ?? 0}\");\n",
    "\n",
    "    ITraktShowIds ids = show.Ids;\n",
    "\n",
    "    if (ids != null)\n",
    "    {\n",
    "        Console.WriteLine($\"Trakt-Id: {ids.Trakt}\");\n",
    "        Console.WriteLine($\"Slug: {ids.Slug}\");\n",
    "        Console.WriteLine($\"ImDB-Id: {ids.Imdb}\");\n",
    "        Console.WriteLine($\"TmDB-Id: {ids.Tmdb ?? 0}\");\n",
    "        Console.WriteLine($\"TVDB-Id: {ids.Tvdb ?? 0}\");\n",
    "        Console.WriteLine($\"TVRage-Id: {ids.TvRage ?? 0}\");\n",
    "    }\n",
    "    \n",
    "    Console.WriteLine($\"Overview: {show.Overview}\");\n",
    "\n",
    "    if (show.FirstAired.HasValue)\n",
    "        Console.WriteLine($\"First Aired (UTC): {show.FirstAired.Value}\");\n",
    "\n",
    "    ITraktShowAirs airs = show.Airs;\n",
    "\n",
    "    if (airs != null)\n",
    "    {\n",
    "        Console.WriteLine($\"Airs on: {airs.Day}\");\n",
    "        Console.WriteLine($\"Airs at: {airs.Time}\");\n",
    "        Console.WriteLine($\"Airs in: {airs.TimeZoneId}\");\n",
    "    }\n",
    "\n",
    "    Console.WriteLine($\"Runtime: {show.Runtime ?? 0} Minutes\");\n",
    "\n",
    "    if (show.Genres != null)\n",
    "        Console.WriteLine($\"Genres: {string.Join(\", \", show.Genres)}\");\n",
    "\n",
    "    Console.WriteLine($\"Certification: {show.Certification}\");\n",
    "    Console.WriteLine($\"Network: {show.Network}\");\n",
    "    Console.WriteLine($\"Aired Episodes: {show.AiredEpisodes ?? 0}\");\n",
    "\n",
    "    if (show.Status != null)\n",
    "        Console.WriteLine($\"Status: {show.Status.DisplayName}\");\n",
    "\n",
    "    Console.WriteLine($\"Rating: {show.Rating ?? 0.0f}\");\n",
    "    Console.WriteLine($\"Votes: {show.Votes ?? 0}\");\n",
    "    Console.WriteLine($\"Country Code: {show.CountryCode}\");\n",
    "    Console.WriteLine($\"Language Code: {show.LanguageCode}\");\n",
    "\n",
    "    if (show.UpdatedAt.HasValue)\n",
    "        Console.WriteLine($\"Updated At (UTC): {show.UpdatedAt.Value}\");\n",
    "\n",
    "    if (show.AvailableTranslationLanguageCodes != null)\n",
    "        Console.WriteLine($\"Available Translation Languages: {string.Join(\", \", show.AvailableTranslationLanguageCodes)}\");\n",
    "\n",
    "    Console.WriteLine($\"Trailer: {show.Trailer}\");\n",
    "    Console.WriteLine($\"Homepage: {show.Homepage}\");\n",
    "}\n",
    "catch (TraktException ex)\n",
    "{\n",
    "    Console.WriteLine(\"-------------- Trakt Exception --------------\");\n",
    "    Console.WriteLine($\"Exception message: {ex.Message}\");\n",
    "    Console.WriteLine($\"Status code: {ex.StatusCode}\");\n",
    "    Console.WriteLine($\"Request URL: {ex.RequestUrl}\");\n",
    "    Console.WriteLine($\"Request message: {ex.RequestBody}\");\n",
    "    Console.WriteLine($\"Request response: {ex.Response}\");\n",
    "    Console.WriteLine($\"Server Reason Phrase: {ex.ServerReasonPhrase}\");\n",
    "    Console.WriteLine(\"---------------------------------------------\");\n",
    "}"
   ]
  }
 ],
 "metadata": {
  "kernelspec": {
   "display_name": ".NET (C#)",
   "language": "C#",
   "name": ".net-csharp"
  },
  "language_info": {
   "name": "C#"
  }
 },
 "nbformat": 4,
 "nbformat_minor": 2
}

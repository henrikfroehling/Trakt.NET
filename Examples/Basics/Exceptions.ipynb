{
 "cells": [
  {
   "cell_type": "markdown",
   "metadata": {},
   "source": [
    "### Exception Handling\n",
    "\n",
    "By default, the library uses exceptions.\n",
    "\n",
    "You can find all supported exceptions in the namespace `TraktNet.Exceptions`.\n",
    "\n",
    "The library usage would look like this:\n",
    "```csharp\n",
    "try\n",
    "{\n",
    "    var response = await client.Module.RequestAsync(Parameters...);\n",
    "}\n",
    "catch (TraktException ex) // Base exception type\n",
    "{\n",
    "    // Do something with the exception\n",
    "}\n",
    "```\n",
    "\n",
    "If you want to catch a specific exception, the usage would look like this:\n",
    "\n",
    "```csharp\n",
    "try\n",
    "{\n",
    "    var response = await client.Module.RequestAsync(Parameters...);\n",
    "}\n",
    "catch (TraktMovieNotFoundException ex) // Specific exception, which is thrown when a movie is not found\n",
    "{\n",
    "    // Do something with the exception\n",
    "} \n",
    "catch (TraktException ex) // Base exception type\n",
    "{\n",
    "    // Do something with the exception\n",
    "}\n",
    "```\n",
    "\n",
    "If you do not want to use exceptions, you can disable this behaviour with the following setting:\n",
    "```csharp\n",
    "client.Configuration.ThrowResponseExceptions = false;\n",
    "```\n",
    "\n",
    "You then need to check whether a response is valid like this:\n",
    "```csharp\n",
    "var response = await client.Module.RequestAsync(Parameters...);\n",
    "\n",
    "if (response) // Or response.IsSuccess\n",
    "{\n",
    "    // Do something with the response.\n",
    "}\n",
    "else\n",
    "{\n",
    "    // Get a possible thrown exception\n",
    "    var exception = response.Exception;\n",
    "}\n",
    "```"
   ]
  }
 ],
 "metadata": {
  "kernelspec": {
   "display_name": ".NET (C#)",
   "language": "C#",
   "name": ".net-csharp"
  },
  "language_info": {
   "name": "C#"
  }
 },
 "nbformat": 4,
 "nbformat_minor": 2
}

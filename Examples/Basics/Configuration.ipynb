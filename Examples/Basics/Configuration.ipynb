{
 "cells": [
  {
   "cell_type": "markdown",
   "metadata": {},
   "source": [
    "### Configuration\n",
    "In this example we take a look at the possible configuration settings."
   ]
  },
  {
   "cell_type": "markdown",
   "metadata": {},
   "source": [
    "First, we need to install the latest [Trakt.NET](https://www.nuget.org/packages/Trakt.NET) NuGet package."
   ]
  },
  {
   "cell_type": "code",
   "execution_count": null,
   "metadata": {
    "dotnet_interactive": {
     "language": "csharp"
    },
    "vscode": {
     "languageId": "dotnet-interactive.csharp"
    }
   },
   "outputs": [],
   "source": [
    "#r \"nuget:Trakt.NET\""
   ]
  },
  {
   "cell_type": "markdown",
   "metadata": {},
   "source": [
    "Now, we can create a new Trakt.NET client."
   ]
  },
  {
   "cell_type": "code",
   "execution_count": null,
   "metadata": {
    "dotnet_interactive": {
     "language": "csharp"
    },
    "vscode": {
     "languageId": "dotnet-interactive.csharp"
    }
   },
   "outputs": [],
   "source": [
    "using TraktNet;\n",
    "\n",
    "string clientID = await GetInputAsync(\"Please enter your Trakt Client-ID:\");\n",
    "\n",
    "var client = new TraktClient(clientID);"
   ]
  },
  {
   "cell_type": "markdown",
   "metadata": {},
   "source": [
    "First we take a look at the status flags, when the client's Client-Secret is not set."
   ]
  },
  {
   "cell_type": "code",
   "execution_count": null,
   "metadata": {
    "dotnet_interactive": {
     "language": "csharp"
    },
    "vscode": {
     "languageId": "dotnet-interactive.csharp"
    }
   },
   "outputs": [],
   "source": [
    "Console.WriteLine($\"Client Id: {client.ClientId}\");\n",
    "Console.WriteLine($\"Client Secret: {client.ClientSecret}\\n\");\n",
    "\n",
    "Console.WriteLine($\"Requests without Authorization possible: {client.IsValidForUseWithoutAuthorization}\");\n",
    "Console.WriteLine($\"Authentication possible: {client.IsValidForAuthenticationProcess}\");\n",
    "Console.WriteLine($\"Requests with Authorization possible: {client.IsValidForUseWithAuthorization}\");"
   ]
  },
  {
   "cell_type": "markdown",
   "metadata": {},
   "source": [
    "Now we set the Client-Secret and take another look the status flags."
   ]
  },
  {
   "cell_type": "code",
   "execution_count": null,
   "metadata": {
    "dotnet_interactive": {
     "language": "csharp"
    },
    "vscode": {
     "languageId": "dotnet-interactive.csharp"
    }
   },
   "outputs": [],
   "source": [
    "client.ClientSecret = await GetInputAsync(\"Please enter your Trakt Client-Secret:\");\n",
    "\n",
    "Console.WriteLine($\"Client Id: {client.ClientId}\");\n",
    "Console.WriteLine($\"Client Secret: {client.ClientSecret}\\n\");\n",
    "\n",
    "Console.WriteLine($\"Requests without Authorization possible: {client.IsValidForUseWithoutAuthorization}\");\n",
    "Console.WriteLine($\"Authentication possible: {client.IsValidForAuthenticationProcess}\");\n",
    "Console.WriteLine($\"Requests with Authorization possible: {client.IsValidForUseWithAuthorization}\");"
   ]
  },
  {
   "cell_type": "markdown",
   "metadata": {},
   "source": [
    "It is possible to create an authorization instance manually, if we have the Access Token and Refresh Token values."
   ]
  },
  {
   "cell_type": "code",
   "execution_count": null,
   "metadata": {
    "dotnet_interactive": {
     "language": "csharp"
    },
    "vscode": {
     "languageId": "dotnet-interactive.csharp"
    }
   },
   "outputs": [],
   "source": [
    "using TraktNet.Objects.Authentication;\n",
    "\n",
    "// We create a new authorization instance with already existing access token and refresh token.\n",
    "client.Authorization = TraktAuthorization.CreateWith(DateTime.Now, 90 * 24 * 3600, \"FakeAccessToken\", \"FakeRefreshToken\");\n",
    "\n",
    "Console.WriteLine($\"Client Id: {client.ClientId}\");\n",
    "Console.WriteLine($\"Client Secret: {client.ClientSecret}\\n\");\n",
    "\n",
    "Console.WriteLine($\"Access Token: {client.Authorization.AccessToken}\");\n",
    "Console.WriteLine($\"Refresh Token: {client.Authorization.RefreshToken}\\n\");\n",
    "\n",
    "Console.WriteLine($\"Requests without Authorization possible: {client.IsValidForUseWithoutAuthorization}\");\n",
    "Console.WriteLine($\"Authentication possible: {client.IsValidForAuthenticationProcess}\");\n",
    "Console.WriteLine($\"Requests with Authorization possible: {client.IsValidForUseWithAuthorization}\");"
   ]
  },
  {
   "cell_type": "markdown",
   "metadata": {},
   "source": [
    "The following property determines the used Trakt API version. The default value is currently 2."
   ]
  },
  {
   "cell_type": "code",
   "execution_count": null,
   "metadata": {
    "dotnet_interactive": {
     "language": "csharp"
    },
    "vscode": {
     "languageId": "dotnet-interactive.csharp"
    }
   },
   "outputs": [],
   "source": [
    "Console.WriteLine($\"API Version: {client.Configuration.ApiVersion}\");"
   ]
  },
  {
   "cell_type": "markdown",
   "metadata": {},
   "source": [
    "It is possible to use the staging environment for testing purposes.\n",
    "\n",
    "With `client.Configuration.UseSandboxEnvironment` we can enable this environment, which changes the API's base URL."
   ]
  },
  {
   "cell_type": "code",
   "execution_count": null,
   "metadata": {
    "dotnet_interactive": {
     "language": "csharp"
    },
    "vscode": {
     "languageId": "dotnet-interactive.csharp"
    }
   },
   "outputs": [],
   "source": [
    "Console.WriteLine($\"API Base Url (UseStagingUrl == false): {client.Configuration.BaseUrl}\");\n",
    "client.Configuration.UseSandboxEnvironment = true;\n",
    "Console.WriteLine($\"API Base Url (UseStagingUrl == true): {client.Configuration.BaseUrl}\");"
   ]
  }
 ],
 "metadata": {
  "kernelspec": {
   "display_name": ".NET (C#)",
   "language": "C#",
   "name": ".net-csharp"
  },
  "language_info": {
   "name": "C#"
  }
 },
 "nbformat": 4,
 "nbformat_minor": 2
}
